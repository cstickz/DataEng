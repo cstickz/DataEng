{
 "cells": [
  {
   "cell_type": "code",
   "execution_count": 9,
   "id": "ced69552",
   "metadata": {},
   "outputs": [],
   "source": [
    "import pandas as pd\n",
    "import numpy as np\n",
    "import matplotlib.pyplot as plt\n",
    "import seaborn as sns"
   ]
  },
  {
   "cell_type": "code",
   "execution_count": 10,
   "id": "abc77477",
   "metadata": {},
   "outputs": [],
   "source": [
    "# Convert CSV file of all data into a dataframe.\n",
    "data = pd.read_csv(\"2019CrashData.csv\")\n",
    "\n",
    "# Separate this into three different data frames:\n",
    "\n",
    "# 1. General crash data\n",
    "crash_data = data[data['Record Type'] == 1]\n",
    "\n",
    "# 2. Specific vehicle data\n",
    "vehicle_data = data[data['Record Type'] == 2]\n",
    "\n",
    "# 3. Specific participant data\n",
    "participant_data = data[data['Record Type'] == 3]\n"
   ]
  },
  {
   "cell_type": "code",
   "execution_count": 11,
   "id": "ed345ce0",
   "metadata": {
    "scrolled": true
   },
   "outputs": [
    {
     "name": "stdout",
     "output_type": "stream",
     "text": [
      "Assertion: Every recorded crash occurred on a date.\n",
      "Successfully asserted! All crashes have complete date information.\n"
     ]
    }
   ],
   "source": [
    "# ASSERTION 1: Every crash occurred on a date (i.e. all records in crash_data have non-null day, month, and year values)\n",
    "\n",
    "print('Assertion: Every recorded crash occurred on a date.')\n",
    "\n",
    "# To start, convert those three columns into a single datetime column.\n",
    "\n",
    "M = crash_data['Crash Month']\n",
    "D = crash_data['Crash Day']\n",
    "Y = crash_data['Crash Year']\n",
    "\n",
    "dates = pd.concat([Y,M,D],axis=1).set_axis([\"Y\", \"M\", \"D\"], axis=1)\n",
    "\n",
    "missing_cells = sum(dates['M'].isna()) + sum(dates['D'].isna()) + sum(dates['Y'].isna())\n",
    "\n",
    "if(missing_cells != 0):\n",
    "    print('Error: At least one crash is missing date data (day, month, and/or year)')\n",
    "else:\n",
    "    print('Successfully asserted! All crashes have complete date information.')"
   ]
  },
  {
   "cell_type": "code",
   "execution_count": 12,
   "id": "e25a9c5c",
   "metadata": {
    "scrolled": true
   },
   "outputs": [
    {
     "name": "stdout",
     "output_type": "stream",
     "text": [
      "Assertion: Every recorded crash occurred in a county.\n",
      "Successfully asserted! All crashes have county codes.\n"
     ]
    }
   ],
   "source": [
    "# ASSERTION 2: Every crash occurred in a county (i.e. all records in crash_data have non-null County Code values)\n",
    "\n",
    "print('Assertion: Every recorded crash occurred in a county.')\n",
    "\n",
    "counties = crash_data['County Code']\n",
    "\n",
    "missing_cells = sum(counties.isna())\n",
    "\n",
    "if(missing_cells != 0):\n",
    "    print('Error: ' + missing_cells + ' crash(es) missing county code data.')\n",
    "else:\n",
    "    print('Successfully asserted! All crashes have county codes.')"
   ]
  },
  {
   "cell_type": "code",
   "execution_count": 13,
   "id": "2db21fd0",
   "metadata": {},
   "outputs": [
    {
     "name": "stdout",
     "output_type": "stream",
     "text": [
      "Assertion: Every crash occurred in the year 2019.\n",
      "Successfully asserted! All crashes occurred in 2019.\n"
     ]
    }
   ],
   "source": [
    "# ASSERTION 3: Every crash occurred in the year 2019\n",
    "\n",
    "print('Assertion: Every crash occurred in the year 2019.')\n",
    "\n",
    "# Already have a dataframe with dates in it! With a year column! Woohoo!\n",
    "# County how many years are not 2019.\n",
    "\n",
    "bad_years = sum(dates['Y'] != 2019)\n",
    "\n",
    "if(bad_years != 0):\n",
    "    print('Error: ' + missing_cells + ' crash(es) did not occurr in 2019.')\n",
    "else:\n",
    "    print('Successfully asserted! All crashes occurred in 2019.')"
   ]
  },
  {
   "cell_type": "code",
   "execution_count": 16,
   "id": "6ad38eab",
   "metadata": {},
   "outputs": [
    {
     "name": "stdout",
     "output_type": "stream",
     "text": [
      "Assertion: Every crash occurred on Highway 26.\n",
      "Error: not all crashes occurred on Highway 26.\n"
     ]
    }
   ],
   "source": [
    "# ASSERTION 4: Every crash occurred on Highway 26.\n",
    "\n",
    "print('Assertion: Every crash occurred on Highway 26.')\n",
    "\n",
    "highways = crash_data['Highway Number']\n",
    "\n",
    "wrong_highway = sum(dates['Y'] != 26)\n",
    "\n",
    "if(wrong_highway != 0):\n",
    "    print('Error: not all crashes occurred on Highway 26.')\n",
    "else:\n",
    "    print('Successfully asserted! All crashes occurred on Highway 26.')"
   ]
  },
  {
   "cell_type": "code",
   "execution_count": 17,
   "id": "fe74f49c",
   "metadata": {},
   "outputs": [
    {
     "name": "stdout",
     "output_type": "stream",
     "text": [
      "Assertion: Total number of pedestrians involved should be the total pedestrian fatality count plus the total pedestrian non-fatal injury count.\n",
      "Successfully asserted! Computed sum equals sum of pedestrians involved.\n"
     ]
    }
   ],
   "source": [
    "# ASSERTION 5: Total Pedestrian Count should be the sum of Total Pedestrian Fatality Count + Total Pedestrian Non-Fatal Injury Count.\n",
    "\n",
    "print('Assertion: Total number of pedestrians involved should be the total pedestrian fatality count plus the total pedestrian non-fatal injury count.')\n",
    "\n",
    "total_peds = crash_data['Total Pedestrian Count']\n",
    "total_non_fatal = crash_data['Total Pedestrian Non-Fatal Injury Count']\n",
    "total_fatal = crash_data['Total Pedestrian Fatality Count']\n",
    "\n",
    "computed_sum = sum(total_non_fatal) + sum (total_fatal)\n",
    "actual_sum = sum(total_peds)\n",
    "\n",
    "if(computed_sum <= actual_sum):\n",
    "    print('Error: Computed sum does not equal actual sum of pedestrians involved.')\n",
    "else:\n",
    "    print('Successfully asserted! Computed sum equals sum of pedestrians involved.')"
   ]
  },
  {
   "cell_type": "code",
   "execution_count": 18,
   "id": "9cf321a7",
   "metadata": {},
   "outputs": [
    {
     "name": "stdout",
     "output_type": "stream",
     "text": [
      "Error: Total fatalities is not always greater than or equal to total pedestrian and cyclist deaths.\n"
     ]
    }
   ],
   "source": [
    "# ASSERTION 6: Total number of fatalities should be greater than or equal to the total pedestrian fatality count plus the total pedalcyclist fatality count.\n",
    "\n",
    "fatalities = crash_data['Total Fatality Count']\n",
    "pedestrian_fatalities = crash_data['Total Pedestrian Fatality Count']\n",
    "pedalcyclist_fatalities = crash_data['Total Pedalcyclist Fatality Count']\n",
    "\n",
    "deaths = pd.concat([fatalities,pedestrian_fatalities,pedalcyclist_fatalities],axis=1).set_axis([\"Total\", \"Pedestrian\", \"Cyclist\"], axis=1)\n",
    "\n",
    "#deaths = deaths.reset_index()  # make sure indexes pair with number of rows\n",
    "deaths.head(10)\n",
    "\n",
    "no_errors = 1\n",
    "for index, row in deaths.iterrows():\n",
    "    if(row['Total'] < (row['Pedestrian'] + row['Cyclist'])):\n",
    "        no_errors = 0\n",
    "\n",
    "if(no_errors == 1):\n",
    "    print('Error: Total fatalities is not always greater than or equal to total pedestrian and cyclist deaths.')\n",
    "else:\n",
    "    print('Successfully asserted!')"
   ]
  },
  {
   "cell_type": "code",
   "execution_count": 19,
   "id": "8970c0e1",
   "metadata": {},
   "outputs": [
    {
     "name": "stdout",
     "output_type": "stream",
     "text": [
      "Assertion successful! There is a reasonable number of recorded crashes.\n"
     ]
    }
   ],
   "source": [
    "# ASSERTION 7: There were hundreds of crashes but not tens of thousands.\n",
    "\n",
    "total_crashes = crash_data.shape[0]\n",
    "\n",
    "if((total_crashes < 100) or (total_crashes > 9999)):\n",
    "    print('Error: Weird number of total crashes.')\n",
    "else:\n",
    "    print('Assertion successful! There is a reasonable number of recorded crashes.')"
   ]
  },
  {
   "cell_type": "code",
   "execution_count": 21,
   "id": "2d03ef5a",
   "metadata": {},
   "outputs": [
    {
     "name": "stdout",
     "output_type": "stream",
     "text": [
      "Assertion successful! There is a reasonable number of recorded crashes.\n"
     ]
    }
   ],
   "source": [
    "# ASSERTION 8: There were hundreds of fatalities but not thousands.\n",
    "\n",
    "total_deaths = sum(fatalities)\n",
    "\n",
    "if((total_deaths < 100) or (total_crashes > 999)):\n",
    "    print('Error: Weird number of total fatalities.')\n",
    "else:\n",
    "    print('Assertion successful! There is a reasonable number of recorded crashes.')"
   ]
  },
  {
   "cell_type": "code",
   "execution_count": 22,
   "id": "b19be5db",
   "metadata": {},
   "outputs": [
    {
     "name": "stdout",
     "output_type": "stream",
     "text": [
      "Assertion successful!\n"
     ]
    }
   ],
   "source": [
    "# ASSERTION 9: Less than 50% of crashes involved alcohol.\n",
    "\n",
    "crashes_with_alc = sum(crash_data['Alcohol-Involved Flag'] == 1)\n",
    "\n",
    "percent_of_crashes = crashes_with_alc / total_crashes * 100\n",
    "\n",
    "if(percent_of_crashes >= 50):\n",
    "    print('Error: Percent of crashes involving alcohol are greater than 50%.')\n",
    "else:\n",
    "    print('Assertion successful!')"
   ]
  },
  {
   "cell_type": "code",
   "execution_count": 23,
   "id": "2af9fe8d",
   "metadata": {},
   "outputs": [
    {
     "name": "stdout",
     "output_type": "stream",
     "text": [
      "Assertion successful!\n"
     ]
    }
   ],
   "source": [
    "# ASSERTION 10: Over 75% of crashes occurred 50ft or less from an intersection.\n",
    "\n",
    "crashes_by_intersection = sum(crash_data['Distance from Intersection'] <= 50.0)\n",
    "\n",
    "percent_of_crashes = crashes_by_intersection / total_crashes * 100\n",
    "\n",
    "if(percent_of_crashes <= 75):\n",
    "    print('Error: Percent of crashes within 50ft of an intersection is less than 75%.')\n",
    "else:\n",
    "    print('Assertion successful!')"
   ]
  },
  {
   "cell_type": "code",
   "execution_count": 35,
   "id": "8b98cfcc",
   "metadata": {
    "scrolled": true
   },
   "outputs": [
    {
     "name": "stdout",
     "output_type": "stream",
     "text": [
      "Assertion successful!\n"
     ]
    }
   ],
   "source": [
    "# ASSERTION 11: Every vehicle listed in the crash data was part of a known crash.\n",
    "\n",
    "total_serial_nums = sum(crash_data['Serial #'].notna())\n",
    "\n",
    "\n",
    "if(total_serial_nums != total_crashes):\n",
    "    print('Error')\n",
    "else:\n",
    "    print('Assertion successful!')"
   ]
  },
  {
   "cell_type": "code",
   "execution_count": null,
   "id": "e8f5b690",
   "metadata": {},
   "outputs": [],
   "source": []
  },
  {
   "cell_type": "code",
   "execution_count": null,
   "id": "b4f85070",
   "metadata": {},
   "outputs": [],
   "source": [
    "# Output crash_data, vehicle_data, and participant_data to file, respectively:\n",
    "\n",
    "crash_data.to_csv(\"C:\\\\Users\\\\user\\\\OneDrive\\\\Desktop\\\\DataEng\\\\Untitled Folder\\\\CrashData.csv\")\n",
    "vehicle_data.to_csv(\"C:\\\\Users\\\\user\\\\OneDrive\\\\Desktop\\\\DataEng\\\\Untitled Folder\\\\VehicleData.csv\")\n",
    "participant_data.to_csv(\"C:\\\\Users\\\\user\\\\OneDrive\\\\Desktop\\\\DataEng\\\\Untitled Folder\\\\ParticipantData.csv\")"
   ]
  },
  {
   "cell_type": "code",
   "execution_count": null,
   "id": "0103f9ea",
   "metadata": {},
   "outputs": [],
   "source": []
  }
 ],
 "metadata": {
  "kernelspec": {
   "display_name": "Python 3 (ipykernel)",
   "language": "python",
   "name": "python3"
  },
  "language_info": {
   "codemirror_mode": {
    "name": "ipython",
    "version": 3
   },
   "file_extension": ".py",
   "mimetype": "text/x-python",
   "name": "python",
   "nbconvert_exporter": "python",
   "pygments_lexer": "ipython3",
   "version": "3.9.7"
  }
 },
 "nbformat": 4,
 "nbformat_minor": 5
}
